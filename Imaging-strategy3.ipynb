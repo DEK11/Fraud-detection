{
 "cells": [
  {
   "cell_type": "code",
   "execution_count": 2,
   "metadata": {},
   "outputs": [],
   "source": [
    "import numpy as np\n",
    "import pandas as pd\n",
    "from pandas import DataFrame\n",
    "import os\n",
    "import math\n",
    "import itertools\n",
    "from IPython.display import Image, display\n",
    "import shutil\n",
    "%matplotlib inline\n",
    "import cv2\n",
    "from scipy import misc\n",
    "from imageio import imwrite"
   ]
  },
  {
   "cell_type": "code",
   "execution_count": 3,
   "metadata": {},
   "outputs": [],
   "source": [
    "input = \"data4/\""
   ]
  },
  {
   "cell_type": "code",
   "execution_count": 4,
   "metadata": {},
   "outputs": [],
   "source": [
    "output = \"images3/\""
   ]
  },
  {
   "cell_type": "code",
   "execution_count": 5,
   "metadata": {},
   "outputs": [],
   "source": [
    "MAX_X_ALLOWED = 1920\n",
    "MAX_Y_ALLOWED = 1080"
   ]
  },
  {
   "cell_type": "markdown",
   "metadata": {},
   "source": [
    "###  BUTTON\n",
    "'NoButton' = 1\n",
    "'Left' = 2\n",
    "'Scroll' = 3\n",
    "'Right' = 4\n",
    "'Middle' = 5"
   ]
  },
  {
   "cell_type": "markdown",
   "metadata": {},
   "source": [
    "###  STATE\n",
    " 'Move' = 1\n",
    " 'Pressed' = 2\n",
    " 'Drag' = 3\n",
    " 'Released' = 4\n",
    " 'Up' = 5\n",
    " 'Down' = 6"
   ]
  },
  {
   "cell_type": "code",
   "execution_count": 6,
   "metadata": {},
   "outputs": [],
   "source": [
    "def getPixelFromState(stateVal):\n",
    "    if stateVal == 2 or stateVal == 6:\n",
    "        return 100\n",
    "    elif stateVal == 4 or stateVal == 5:\n",
    "        return 180\n",
    "    elif stateVal == 3:\n",
    "        return 255\n",
    "    else:\n",
    "        return 50"
   ]
  },
  {
   "cell_type": "code",
   "execution_count": 7,
   "metadata": {},
   "outputs": [],
   "source": [
    "def createImage(df, l, t=1):\n",
    "    img = np.zeros((MAX_X_ALLOWED, MAX_Y_ALLOWED, 3))\n",
    "    for index, row in df.iterrows():\n",
    "        if index == 0:\n",
    "            continue\n",
    "        lastRow = df.iloc[index-1,:]\n",
    "        if row[\"x\"] < MAX_X_ALLOWED and row[\"y\"] < MAX_Y_ALLOWED:\n",
    "            if lastRow[\"x\"] < MAX_X_ALLOWED and lastRow[\"y\"] < MAX_Y_ALLOWED:\n",
    "                last_x = int(lastRow[\"x\"])\n",
    "                last_y = int(lastRow[\"y\"])\n",
    "                x = int(row[\"x\"])\n",
    "                y = int(row[\"y\"])\n",
    "                if last_x != x or last_y != y:\n",
    "                    if row[\"state\"] == 3:\n",
    "                        t = 2\n",
    "                    cv2.line(img, (last_y, last_x), (y, x), thickness=t, lineType=l, \n",
    "                             color=(getPixelFromState(row[\"state\"]), \n",
    "                                    int(255 * (row[\"speed\"])), int(255 * (row[\"acceleration\"]))))\n",
    "                    if row[\"button\"] == 2:\n",
    "                        cv2.circle(img,(y,x), 7, (244, 220, 66), -1)\n",
    "                    elif row[\"button\"] == 3:\n",
    "                        cv2.circle(img,(y,x), 7, (98, 244, 65), -1)\n",
    "                    elif row[\"button\"] == 4:\n",
    "                        cv2.circle(img,(y,x), 7, (241, 65, 244), -1)\n",
    "    return img.astype(np.uint8)"
   ]
  },
  {
   "cell_type": "code",
   "execution_count": 8,
   "metadata": {},
   "outputs": [],
   "source": [
    "users = os.listdir(input)\n",
    "for u in users:\n",
    "    sessions = os.listdir(input + u)\n",
    "    if not os.path.exists(output + u):\n",
    "        os.makedirs(output + u)\n",
    "    for sess in sessions:\n",
    "        path = input + u + \"/\" + sess\n",
    "        df = pd.read_csv(path)\n",
    "        img = createImage(df, cv2.LINE_AA, t=1)\n",
    "        imwrite(output + u + \"/\" + sess + \".png\", img)\n"
   ]
  },
  {
   "cell_type": "code",
   "execution_count": null,
   "metadata": {},
   "outputs": [],
   "source": []
  }
 ],
 "metadata": {
  "kernelspec": {
   "display_name": "Python 3",
   "language": "python",
   "name": "python3"
  },
  "language_info": {
   "codemirror_mode": {
    "name": "ipython",
    "version": 3
   },
   "file_extension": ".py",
   "mimetype": "text/x-python",
   "name": "python",
   "nbconvert_exporter": "python",
   "pygments_lexer": "ipython3",
   "version": "3.6.5"
  }
 },
 "nbformat": 4,
 "nbformat_minor": 2
}
