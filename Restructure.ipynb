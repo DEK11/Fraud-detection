{
 "cells": [
  {
   "cell_type": "code",
   "execution_count": 28,
   "metadata": {},
   "outputs": [],
   "source": [
    "import pandas as pd\n",
    "import numpy as np\n",
    "import os\n",
    "import shutil\n",
    "import random"
   ]
  },
  {
   "cell_type": "code",
   "execution_count": 29,
   "metadata": {},
   "outputs": [],
   "source": [
    "input = \"images3/\""
   ]
  },
  {
   "cell_type": "code",
   "execution_count": 30,
   "metadata": {},
   "outputs": [],
   "source": [
    "output = \"final_data3/\""
   ]
  },
  {
   "cell_type": "code",
   "execution_count": 31,
   "metadata": {},
   "outputs": [],
   "source": [
    "original_csv = \"Mouse-Dynamics-Challenge/public_labels.csv\""
   ]
  },
  {
   "cell_type": "code",
   "execution_count": 32,
   "metadata": {},
   "outputs": [
    {
     "data": {
      "text/plain": [
       "816"
      ]
     },
     "execution_count": 32,
     "metadata": {},
     "output_type": "execute_result"
    }
   ],
   "source": [
    "repo = dict()\n",
    "df = pd.read_csv(original_csv)\n",
    "for index, row in df.iterrows():\n",
    "    repo[row[\"filename\"] + \".png\"] = row[\"is_illegal\"]\n",
    "len(repo)"
   ]
  },
  {
   "cell_type": "code",
   "execution_count": 33,
   "metadata": {},
   "outputs": [],
   "source": [
    "def copyFiles(files, train, test):\n",
    "    if not files:\n",
    "        raise \"why empty?\"\n",
    "    if not os.path.exists(train):\n",
    "        os.makedirs(train)\n",
    "    if not os.path.exists(test):\n",
    "        os.makedirs(test)\n",
    "    random.shuffle(files)\n",
    "    num_of_test = int(len(files) * .40)\n",
    "    testFiles = files[0:num_of_test]\n",
    "    trainFiles = files[num_of_test:]\n",
    "    for f in testFiles:\n",
    "        shutil.copy(f, test)\n",
    "    for f in trainFiles:\n",
    "        shutil.copy(f, train)"
   ]
  },
  {
   "cell_type": "code",
   "execution_count": 34,
   "metadata": {},
   "outputs": [],
   "source": [
    "users = os.listdir(input)\n",
    "for u in users:\n",
    "    authentic = []\n",
    "    fraud = []\n",
    "    sessions = os.listdir(input + u)\n",
    "    for sess in sessions:\n",
    "        if repo[sess] == 1:\n",
    "            fraud.append(input + u + \"/\" + sess)\n",
    "        else:\n",
    "            authentic.append(input + u + \"/\" + sess)\n",
    "    copyFiles(authentic, output + u + \"/train/authentic\", output + u + \"/test/authentic\")\n",
    "    copyFiles(fraud, output + u + \"/train/fraud\", output + u + \"/test/fraud\")"
   ]
  },
  {
   "cell_type": "code",
   "execution_count": 35,
   "metadata": {},
   "outputs": [
    {
     "name": "stdout",
     "output_type": "stream",
     "text": [
      "816\n"
     ]
    }
   ],
   "source": [
    "total = 0\n",
    "for root, subdirs, files in os.walk(output):\n",
    "        total += len(files)\n",
    "print(total)"
   ]
  },
  {
   "cell_type": "code",
   "execution_count": null,
   "metadata": {},
   "outputs": [],
   "source": []
  }
 ],
 "metadata": {
  "kernelspec": {
   "display_name": "Python 3",
   "language": "python",
   "name": "python3"
  },
  "language_info": {
   "codemirror_mode": {
    "name": "ipython",
    "version": 3
   },
   "file_extension": ".py",
   "mimetype": "text/x-python",
   "name": "python",
   "nbconvert_exporter": "python",
   "pygments_lexer": "ipython3",
   "version": "3.6.5"
  }
 },
 "nbformat": 4,
 "nbformat_minor": 2
}
