{
 "cells": [
  {
   "cell_type": "code",
   "execution_count": 2,
   "metadata": {
    "collapsed": true
   },
   "outputs": [],
   "source": [
    "import pandas as pd\n",
    "import numpy as np\n",
    "import os\n",
    "import shutil\n",
    "import random"
   ]
  },
  {
   "cell_type": "code",
   "execution_count": 3,
   "metadata": {},
   "outputs": [
    {
     "data": {
      "text/plain": [
       "816"
      ]
     },
     "execution_count": 3,
     "metadata": {},
     "output_type": "execute_result"
    }
   ],
   "source": [
    "original_csv = \"Mouse-Dynamics-Challenge/public_labels.csv\"\n",
    "repo = dict()\n",
    "df = pd.read_csv(original_csv)\n",
    "for index, row in df.iterrows():\n",
    "    repo[row[\"filename\"]] = row[\"is_illegal\"]\n",
    "len(repo)"
   ]
  },
  {
   "cell_type": "code",
   "execution_count": 4,
   "metadata": {
    "collapsed": true
   },
   "outputs": [],
   "source": [
    "input = \"data/test_files/\""
   ]
  },
  {
   "cell_type": "code",
   "execution_count": 5,
   "metadata": {
    "collapsed": true
   },
   "outputs": [],
   "source": [
    "users = os.listdir(input)"
   ]
  },
  {
   "cell_type": "code",
   "execution_count": 11,
   "metadata": {},
   "outputs": [
    {
     "data": {
      "text/html": [
       "<div>\n",
       "<style scoped>\n",
       "    .dataframe tbody tr th:only-of-type {\n",
       "        vertical-align: middle;\n",
       "    }\n",
       "\n",
       "    .dataframe tbody tr th {\n",
       "        vertical-align: top;\n",
       "    }\n",
       "\n",
       "    .dataframe thead th {\n",
       "        text-align: right;\n",
       "    }\n",
       "</style>\n",
       "<table border=\"1\" class=\"dataframe\">\n",
       "  <thead>\n",
       "    <tr style=\"text-align: right;\">\n",
       "      <th></th>\n",
       "      <th>users</th>\n",
       "      <th>authentic_sess</th>\n",
       "      <th>authentic_sess</th>\n",
       "      <th>total_sess</th>\n",
       "    </tr>\n",
       "  </thead>\n",
       "  <tbody>\n",
       "    <tr>\n",
       "      <th>0</th>\n",
       "      <td>user15</td>\n",
       "      <td>70</td>\n",
       "      <td>70</td>\n",
       "      <td>115</td>\n",
       "    </tr>\n",
       "    <tr>\n",
       "      <th>1</th>\n",
       "      <td>user35</td>\n",
       "      <td>73</td>\n",
       "      <td>73</td>\n",
       "      <td>108</td>\n",
       "    </tr>\n",
       "    <tr>\n",
       "      <th>2</th>\n",
       "      <td>user16</td>\n",
       "      <td>38</td>\n",
       "      <td>38</td>\n",
       "      <td>106</td>\n",
       "    </tr>\n",
       "    <tr>\n",
       "      <th>3</th>\n",
       "      <td>user12</td>\n",
       "      <td>49</td>\n",
       "      <td>49</td>\n",
       "      <td>105</td>\n",
       "    </tr>\n",
       "    <tr>\n",
       "      <th>4</th>\n",
       "      <td>user7</td>\n",
       "      <td>37</td>\n",
       "      <td>37</td>\n",
       "      <td>73</td>\n",
       "    </tr>\n",
       "    <tr>\n",
       "      <th>5</th>\n",
       "      <td>user23</td>\n",
       "      <td>33</td>\n",
       "      <td>33</td>\n",
       "      <td>71</td>\n",
       "    </tr>\n",
       "    <tr>\n",
       "      <th>6</th>\n",
       "      <td>user9</td>\n",
       "      <td>43</td>\n",
       "      <td>43</td>\n",
       "      <td>66</td>\n",
       "    </tr>\n",
       "    <tr>\n",
       "      <th>7</th>\n",
       "      <td>user29</td>\n",
       "      <td>20</td>\n",
       "      <td>20</td>\n",
       "      <td>63</td>\n",
       "    </tr>\n",
       "    <tr>\n",
       "      <th>8</th>\n",
       "      <td>user21</td>\n",
       "      <td>22</td>\n",
       "      <td>22</td>\n",
       "      <td>59</td>\n",
       "    </tr>\n",
       "    <tr>\n",
       "      <th>9</th>\n",
       "      <td>user20</td>\n",
       "      <td>20</td>\n",
       "      <td>20</td>\n",
       "      <td>50</td>\n",
       "    </tr>\n",
       "  </tbody>\n",
       "</table>\n",
       "</div>"
      ],
      "text/plain": [
       "    users  authentic_sess  authentic_sess  total_sess\n",
       "0  user15              70              70         115\n",
       "1  user35              73              73         108\n",
       "2  user16              38              38         106\n",
       "3  user12              49              49         105\n",
       "4   user7              37              37          73\n",
       "5  user23              33              33          71\n",
       "6   user9              43              43          66\n",
       "7  user29              20              20          63\n",
       "8  user21              22              22          59\n",
       "9  user20              20              20          50"
      ]
     },
     "execution_count": 11,
     "metadata": {},
     "output_type": "execute_result"
    }
   ],
   "source": [
    "z = []\n",
    "v = []\n",
    "w = []\n",
    "x = []\n",
    "\n",
    "for u in users:\n",
    "    a = 0\n",
    "    f = 0\n",
    "    sessions = os.listdir(input + u)\n",
    "    for sess in sessions:\n",
    "        if sess in repo:\n",
    "            if repo[sess] == 1:\n",
    "                f += 1\n",
    "            else:\n",
    "                a += 1\n",
    "    z.append(u)\n",
    "    v.append(a)\n",
    "    w.append(f)\n",
    "    x.append(a+f)\n",
    "\n",
    "df = pd.DataFrame({\"users\":z, \"authentic_sess\":v, \"authentic_sess\":w, \"total_sess\": x})\n",
    "df.sort_values(\"total_sess\", ascending=False).reset_index()[[\"users\", \"authentic_sess\", \"authentic_sess\", \"total_sess\"]].head(20)"
   ]
  },
  {
   "cell_type": "code",
   "execution_count": null,
   "metadata": {
    "collapsed": true
   },
   "outputs": [],
   "source": []
  }
 ],
 "metadata": {
  "kernelspec": {
   "display_name": "Python [Root]",
   "language": "python",
   "name": "Python [Root]"
  },
  "language_info": {
   "codemirror_mode": {
    "name": "ipython",
    "version": 3
   },
   "file_extension": ".py",
   "mimetype": "text/x-python",
   "name": "python",
   "nbconvert_exporter": "python",
   "pygments_lexer": "ipython3",
   "version": "3.5.3"
  }
 },
 "nbformat": 4,
 "nbformat_minor": 2
}
